{
  "nbformat": 4,
  "nbformat_minor": 0,
  "metadata": {
    "colab": {
      "provenance": [],
      "authorship_tag": "ABX9TyOCMVu8uPXm3pCNzVtFPyCl",
      "include_colab_link": true
    },
    "kernelspec": {
      "name": "python3",
      "display_name": "Python 3"
    },
    "language_info": {
      "name": "python"
    }
  },
  "cells": [
    {
      "cell_type": "markdown",
      "metadata": {
        "id": "view-in-github",
        "colab_type": "text"
      },
      "source": [
        "<a href=\"https://colab.research.google.com/github/mcoupremanne/Matching_biblio/blob/main/Scoring.ipynb\" target=\"_parent\"><img src=\"https://colab.research.google.com/assets/colab-badge.svg\" alt=\"Open In Colab\"/></a>"
      ]
    },
    {
      "cell_type": "code",
      "source": [
        "import pandas as pd\n",
        "import re\n",
        "\n",
        "def prepare_inputs(publications_df, keywords_df):\n",
        "    # Convertir les colonnes en minuscules\n",
        "    publications_df['titre'] = publications_df['titre'].str.lower()\n",
        "    publications_df['abstract'] = publications_df['abstract'].str.lower()\n",
        "    publications_df['keywords'] = publications_df['keywords'].str.lower()\n",
        "\n",
        "    keywords_df['Keyword'] = keywords_df['Keyword'].str.lower()\n",
        "\n",
        "    # Nettoyer les données du DF  de publications\n",
        "    publications_df['titre'] = publications_df['titre'].apply(lambda x: re.sub(r'\\s+', ' ', x))  # Remplacer les espaces multiples par un espace unique\n",
        "    publications_df['abstract'] = publications_df['abstract'].apply(lambda x: re.sub(r'\\s+', ' ', x))\n",
        "    publications_df['keywords'] = publications_df['keywords'].apply(lambda x: re.sub(r'\\s+', ' ', x))\n",
        "    publications_df['keywords'] = publications_df['keywords'].apply(lambda x: re.sub(r',+', ',', x))  # Supprimer les virgules multiples\n",
        "    publications_df['keywords'] = publications_df['keywords'].apply(lambda x: x.strip(','))  # Supprimer les virgules en début ou fin de chaîne\n",
        "\n",
        "    # Nettoyer les données du DF  de keywords dont on veut scorer les apparitions\n",
        "    keywords_df['Keyword'] = keywords_df['Keyword'].str.lower().apply(lambda x: re.sub(r'\\s+', ' ', x))\n",
        "    keywords_df['Keyword'] = keywords_df['Keyword'].str.lower().apply(lambda x: re.sub(r',+', ',', x))\n",
        "    keywords_df['Keyword'] = keywords_df['Keyword'].str.lower().apply(lambda x: x.strip(','))\n",
        "\n",
        "    return publications_df, keywords_df\n",
        "\n"
      ],
      "metadata": {
        "id": "GF8VSuIrRNi0"
      },
      "execution_count": null,
      "outputs": []
    },
    {
      "cell_type": "code",
      "source": [],
      "metadata": {
        "id": "gr9Q_74vGFe9"
      },
      "execution_count": null,
      "outputs": []
    },
    {
      "cell_type": "code",
      "execution_count": null,
      "metadata": {
        "id": "D1kTvjrFF-K2"
      },
      "outputs": [],
      "source": [
        "def calculate_scores(publications_df, keywords_df):\n",
        "    scores = []\n",
        "\n",
        "    for index, row in publications_df.iterrows():\n",
        "        title = row['titre']\n",
        "        abstract = row['abstract']\n",
        "        keywords = row['keywords']\n",
        "\n",
        "        title_score = 0\n",
        "        abstract_score = 0\n",
        "        keywords_score = 0\n",
        "\n",
        "\n",
        "        for keyword in keywords_df['Keyword']:\n",
        "            if keyword in title:\n",
        "                title_score += 1\n",
        "            if keyword in abstract:\n",
        "                abstract_score += 1\n",
        "            if keyword in keywords:\n",
        "                keywords_score += 1\n",
        "            total_score = title_score + abstract_score + keywords_score\n",
        "        scores.append({'nom': row['nom'], 'id_autheur': row['id_autheur'], 'titre': title, 'abstract': abstract, 'keywords': keywords, 'Title Score': title_score, 'Abstract Score': abstract_score, 'Keywords Score': keywords_score, 'total score': total_score})\n",
        "\n",
        "    scores_df = pd.DataFrame(scores)\n",
        "    sorted_scores_df = scores_df.sort_values(by='total score', ascending=False)  # Tri par points totaux (ordre décroissant)\n",
        "    return sorted_scores_df\n",
        "\n"
      ]
    },
    {
      "cell_type": "code",
      "source": [
        "def extract_keyword_details(publications_df, keywords_df):\n",
        "    keyword_details = []\n",
        "\n",
        "    for index, row in publications_df.iterrows():\n",
        "        title = row['titre']\n",
        "        abstract = row['abstract']\n",
        "        keywords = row['keywords']\n",
        "\n",
        "        for keyword in keywords_df['Keyword']:\n",
        "            if keyword in title:\n",
        "                keyword_details.append({'Keyword': keyword, 'Occurrence': 'title', 'Value': title, 'titre': row['titre']})\n",
        "            if keyword in abstract:\n",
        "                keyword_details.append({'Keyword': keyword, 'Occurrence': 'abstract', 'Value': abstract, 'titre': row['titre']})\n",
        "            if keyword in keywords:\n",
        "                keyword_details.append({'Keyword': keyword, 'Occurrence': 'keywords', 'Value': keywords, 'titre': row['titre']})\n",
        "\n",
        "    keyword_details_df = pd.DataFrame(keyword_details)\n",
        "    return keyword_details_df"
      ],
      "metadata": {
        "id": "1XT4j5d7Ou7d"
      },
      "execution_count": null,
      "outputs": []
    },
    {
      "cell_type": "markdown",
      "source": [
        "# Essais"
      ],
      "metadata": {
        "id": "LERZPovQRSZb"
      }
    },
    {
      "cell_type": "code",
      "source": [
        "# Essai\n",
        "publications = {\n",
        "    'nom': ['Max', 'Auteur 2'],\n",
        "    'id_autheur': [1, 2],\n",
        "    'titre': ['Décès par tracto-pelle en 2023', 'biodiversity loss et tout et tout'],\n",
        "    'abstract': ['le tracto-pelle est un outil puissant...', 'Ceci est l\\'abstract de la publication 2 - biodiversité'],\n",
        "    'keywords': ['biodiversity , décès tracto-pelle , abeilles', 'Biodiversity Loss']\n",
        "}\n",
        "\n",
        "keywords = {\n",
        "    'Keyword': ['Biodiversité', 'biodiversity,', 'tracTo-pelle', 'décès', 'keyword5']\n",
        "}\n",
        "\n",
        "publications_df = pd.DataFrame(publications)\n",
        "keywords_df = pd.DataFrame(keywords)\n"
      ],
      "metadata": {
        "id": "I5NdeAgYIeAc"
      },
      "execution_count": null,
      "outputs": []
    },
    {
      "cell_type": "code",
      "source": [
        "print(publications_df, keywords_df)"
      ],
      "metadata": {
        "colab": {
          "base_uri": "https://localhost:8080/"
        },
        "id": "ueTf17VSSIyu",
        "outputId": "3878332d-e4e4-438f-8bc1-7afd0b6e608d"
      },
      "execution_count": null,
      "outputs": [
        {
          "output_type": "stream",
          "name": "stdout",
          "text": [
            "        nom  id_autheur                              titre  \\\n",
            "0       Max           1     Décès par tracto-pelle en 2023   \n",
            "1  Auteur 2           2  biodiversity loss et tout et tout   \n",
            "\n",
            "                                            abstract  \\\n",
            "0           le tracto-pelle est un outil puissant...   \n",
            "1  Ceci est l'abstract de la publication 2 - biod...   \n",
            "\n",
            "                                       keywords  \n",
            "0  biodiversity , décès tracto-pelle , abeilles  \n",
            "1                             Biodiversity Loss            Keyword\n",
            "0   Biodiversité\n",
            "1  biodiversity,\n",
            "2   tracTo-pelle\n",
            "3          décès\n",
            "4       keyword5\n"
          ]
        }
      ]
    },
    {
      "cell_type": "code",
      "source": [
        "publications_df, keywords_df=prepare_inputs(publications_df, keywords_df)\n",
        "print(publications_df, keywords_df)"
      ],
      "metadata": {
        "colab": {
          "base_uri": "https://localhost:8080/"
        },
        "id": "vblDadlCRfhV",
        "outputId": "63c28e1c-7497-4399-b663-f99009d2383e"
      },
      "execution_count": null,
      "outputs": [
        {
          "output_type": "stream",
          "name": "stdout",
          "text": [
            "        nom  id_autheur                              titre  \\\n",
            "0       Max           1     décès par tracto-pelle en 2023   \n",
            "1  Auteur 2           2  biodiversity loss et tout et tout   \n",
            "\n",
            "                                            abstract  \\\n",
            "0           le tracto-pelle est un outil puissant...   \n",
            "1  ceci est l'abstract de la publication 2 - biod...   \n",
            "\n",
            "                                       keywords  \n",
            "0  biodiversity , décès tracto-pelle , abeilles  \n",
            "1                             biodiversity loss           Keyword\n",
            "0  biodiversité\n",
            "1  biodiversity\n",
            "2  tracto-pelle\n",
            "3         décès\n",
            "4      keyword5\n"
          ]
        }
      ]
    },
    {
      "cell_type": "markdown",
      "source": [
        "**No more caps issues**"
      ],
      "metadata": {
        "id": "BmTC7wTvS0Gy"
      }
    },
    {
      "cell_type": "code",
      "source": [
        "\n",
        "result_df = calculate_scores(publications_df, keywords_df)\n",
        "print(result_df)"
      ],
      "metadata": {
        "colab": {
          "base_uri": "https://localhost:8080/"
        },
        "id": "odmcV0EeRYSE",
        "outputId": "78c5c595-d662-40ee-e98d-7855c665bb5d"
      },
      "execution_count": null,
      "outputs": [
        {
          "output_type": "stream",
          "name": "stdout",
          "text": [
            "        nom  id_autheur                              titre  \\\n",
            "0       Max           1     décès par tracto-pelle en 2023   \n",
            "1  Auteur 2           2  biodiversity loss et tout et tout   \n",
            "\n",
            "                                            abstract  \\\n",
            "0           le tracto-pelle est un outil puissant...   \n",
            "1  ceci est l'abstract de la publication 2 - biod...   \n",
            "\n",
            "                                       keywords  Title Score  Abstract Score  \\\n",
            "0  biodiversity , décès tracto-pelle , abeilles            2               1   \n",
            "1                             biodiversity loss            1               1   \n",
            "\n",
            "   Keywords Score  total score  \n",
            "0               3            6  \n",
            "1               1            3  \n"
          ]
        }
      ]
    },
    {
      "cell_type": "code",
      "source": [
        "keyw_df=extract_keyword_details(publications_df, keywords_df)\n",
        "print(keyw_df)"
      ],
      "metadata": {
        "colab": {
          "base_uri": "https://localhost:8080/"
        },
        "id": "bLYLw6TXO_Um",
        "outputId": "3fbe137a-62f3-41ff-ba9e-e8b7eadabe10"
      },
      "execution_count": null,
      "outputs": [
        {
          "output_type": "stream",
          "name": "stdout",
          "text": [
            "        Keyword Occurrence                                              Value  \\\n",
            "0  biodiversity   keywords       biodiversity , décès tracto-pelle , abeilles   \n",
            "1  tracto-pelle      title                     décès par tracto-pelle en 2023   \n",
            "2  tracto-pelle   abstract           le tracto-pelle est un outil puissant...   \n",
            "3  tracto-pelle   keywords       biodiversity , décès tracto-pelle , abeilles   \n",
            "4         décès      title                     décès par tracto-pelle en 2023   \n",
            "5         décès   keywords       biodiversity , décès tracto-pelle , abeilles   \n",
            "6  biodiversité   abstract  ceci est l'abstract de la publication 2 - biod...   \n",
            "7  biodiversity      title                  biodiversity loss et tout et tout   \n",
            "8  biodiversity   keywords                                  biodiversity loss   \n",
            "\n",
            "                               titre  \n",
            "0     décès par tracto-pelle en 2023  \n",
            "1     décès par tracto-pelle en 2023  \n",
            "2     décès par tracto-pelle en 2023  \n",
            "3     décès par tracto-pelle en 2023  \n",
            "4     décès par tracto-pelle en 2023  \n",
            "5     décès par tracto-pelle en 2023  \n",
            "6  biodiversity loss et tout et tout  \n",
            "7  biodiversity loss et tout et tout  \n",
            "8  biodiversity loss et tout et tout  \n"
          ]
        }
      ]
    },
    {
      "cell_type": "code",
      "source": [
        "import pandas as pd\n",
        "import sqlite3\n",
        "\n",
        "# Copie des dataframes d'origine\n",
        "original_publications_df = publications_df.copy()\n",
        "original_keywords_df = keywords_df.copy()\n",
        "\n",
        "# 1. Préparer les inputs\n",
        "publications_df, keywords_df = prepare_inputs(publications_df, keywords_df)\n",
        "\n",
        "# 2. Calculer les scores\n",
        "sorted_scores_df = calculate_scores(publications_df, keywords_df)\n",
        "\n",
        "# 3. Extraire les détails des occurrences des mots-clés\n",
        "keyword_details_df = extract_keyword_details(publications_df, keywords_df)\n",
        "\n",
        "# Créer une base de données SQLite et enregistrer les dataframes en tant que tables\n",
        "conn = sqlite3.connect('data.db')\n",
        "\n",
        "# Enregistrer le dataframe original_publications_df en tant que table \"original_publications\"\n",
        "original_publications_df.to_sql('original_publications', conn, if_exists='replace', index=False)\n",
        "\n",
        "# Enregistrer le dataframe original_keywords_df en tant que table \"original_keywords\"\n",
        "original_keywords_df.to_sql('original_keywords', conn, if_exists='replace', index=False)\n",
        "\n",
        "# Enregistrer le dataframe publications_df en tant que table \"publications\"\n",
        "publications_df.to_sql('publications', conn, if_exists='replace', index=False)\n",
        "\n",
        "# Enregistrer le dataframe keywords_df en tant que table \"keywords\"\n",
        "keywords_df.to_sql('keywords', conn, if_exists='replace', index=False)\n",
        "\n",
        "# Enregistrer le dataframe sorted_scores_df en tant que table \"sorted_scores\"\n",
        "sorted_scores_df.to_sql('sorted_scores', conn, if_exists='replace', index=False)\n",
        "\n",
        "# Enregistrer le dataframe keyword_details_df en tant que table \"keyword_details\"\n",
        "keyword_details_df.to_sql('keyword_details', conn, if_exists='replace', index=False)\n",
        "# Créer un objet curseur\n",
        "cursor = conn.cursor()\n",
        "# Creer la requête pour une table de classement\n",
        "query = \"DROP TABLE IF EXISTS Classement;\"\n",
        "cursor.execute(query)\n",
        "query = \"create table Classement As SELECT id_autheur, nom, SUM(`Title Score`) AS `Total Title Score`, SUM(`Abstract Score`) AS `Total Abstract Score`, SUM(`Keywords Score`) AS `Total Keywords Score`, SUM(`total score`) AS `Total Score` FROM sorted_scores GROUP BY id_autheur, nom ORDER BY `Total Score` DESC;\"\n",
        "cursor.execute(query)\n",
        "\n",
        "# Fermer la connexion à la base de données\n",
        "conn.close()\n"
      ],
      "metadata": {
        "id": "T7cLGN5HXE6J"
      },
      "execution_count": null,
      "outputs": []
    },
    {
      "cell_type": "markdown",
      "source": [],
      "metadata": {
        "id": "L4WTsvNvcyI0"
      }
    }
  ]
}